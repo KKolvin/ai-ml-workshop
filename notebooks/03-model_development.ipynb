{
 "cells": [
  {
   "cell_type": "markdown",
   "id": "115e5c13",
   "metadata": {},
   "source": [
    "# Model Selection\n",
    "Authors: Wei Mai, Christina Xu"
   ]
  },
  {
   "cell_type": "code",
   "execution_count": null,
   "id": "0e26a756",
   "metadata": {},
   "outputs": [],
   "source": [
    "# data manipulation\n",
    "import numpy as np\n",
    "\n",
    "# model evaluation\n",
    "from sklearn.metrics import mean_squared_error\n",
    "from sklearn.metrics import accuracy_score\n",
    "\n",
    "# k-fold cross validation\n",
    "from sklearn.model_selection import cross_val_score\n",
    "\n",
    "# models \n",
    "from sklearn import tree \n",
    "from sklearn.ensemble import RandomForestClassifier\n",
    "\n",
    "# data visualization\n",
    "import matplotlib.pyplot as plt\n",
    "\n",
    "# save model\n",
    "import pickle\n",
    "\n",
    "# display image\n",
    "from IPython.display import Image"
   ]
  },
  {
   "cell_type": "markdown",
   "id": "cd6d533f",
   "metadata": {},
   "source": [
    "## Table of Contents\n",
    "1. Model training \n",
    "2. Model evaluation\n",
    "2. Model testing "
   ]
  },
  {
   "cell_type": "markdown",
   "id": "ad939bb8",
   "metadata": {},
   "source": [
    "## 1. Model training \n",
    "\n",
    "While there are several classifiers available, we show how to train the following classifiers, compare and select one.\n",
    "\n",
    "1. [Decision Tree](https://scikit-learn.org/stable/modules/generated/sklearn.tree.DecisionTreeClassifier.html)\n",
    "2. [Random Forest](https://scikit-learn.org/stable/modules/generated/sklearn.ensemble.RandomForestClassifier.html#sklearn.ensemble.RandomForestClassifier)"
   ]
  },
  {
   "cell_type": "markdown",
   "id": "5fe05846",
   "metadata": {},
   "source": [
    "## 1.1 Load training and testing data"
   ]
  },
  {
   "cell_type": "code",
   "execution_count": null,
   "id": "050610cf",
   "metadata": {},
   "outputs": [],
   "source": [
    "data_path = '../data/traintest/'\n",
    "model_path   = '../models/'\n",
    "\n",
    "X_train_prepared = np.loadtxt(data_path + \"X_train_prepared.csv\", delimiter=\",\")\n",
    "X_test_prepared = np.loadtxt(data_path + \"X_test_prepared.csv\", delimiter=\",\")\n",
    "y_train_prepared = np.loadtxt(data_path + \"y_train_prepared.csv\", delimiter=\",\")\n",
    "y_test_prepared = np.loadtxt(data_path + \"y_test_prepared.csv\", delimiter=\",\")"
   ]
  },
  {
   "cell_type": "markdown",
   "id": "20e9787b",
   "metadata": {},
   "source": [
    "## 1.1 Decision Tree\n",
    "https://scikit-learn.org/stable/modules/tree.html\n",
    "\n",
    "A tree where each node represents a feature, each branch represents a decision and each leaf represents an outcome."
   ]
  },
  {
   "cell_type": "code",
   "execution_count": null,
   "id": "74b491fa",
   "metadata": {},
   "outputs": [],
   "source": [
    "# display decision tree image\n",
    "Image(filename='notebook-img/decision_tree.png', width=400, height=200)"
   ]
  },
  {
   "cell_type": "code",
   "execution_count": null,
   "id": "03beb780",
   "metadata": {},
   "outputs": [],
   "source": [
    "# model training\n",
    "\n",
    "# initalize decision tree object\n",
    "dtc = tree.DecisionTreeClassifier(random_state=0) #random_state ensures reproducibility\n",
    "\n",
    "# train the decision tree on the training set \n",
    "decision_tree = dtc.fit(X_train_prepared, y_train_prepared)"
   ]
  },
  {
   "cell_type": "markdown",
   "id": "606c9f9e",
   "metadata": {},
   "source": [
    "## 1.2 Random Forest \n",
    "https://scikit-learn.org/stable/modules/generated/sklearn.ensemble.RandomForestClassifier.html#sklearn.ensemble.RandomForestClassifier\n",
    "\n",
    " A large number of individual decision trees that operate as an ensemble. Each individual tree in the random forest spits out a class prediction and the class with the most votes becomes our model’s prediction. "
   ]
  },
  {
   "cell_type": "code",
   "execution_count": null,
   "id": "5af8ff47",
   "metadata": {},
   "outputs": [],
   "source": [
    "# display random forest image\n",
    "Image(filename='notebook-img/random_forest.png', width=400, height=200)"
   ]
  },
  {
   "cell_type": "code",
   "execution_count": null,
   "id": "b474ae0f",
   "metadata": {},
   "outputs": [],
   "source": [
    "# model training\n",
    "\n",
    "#initalize Random Forest object\n",
    "rfc = RandomForestClassifier(random_state=0) #random_state ensures reproducibility\n",
    "\n",
    "# train the decision tree on the training set \n",
    "random_forest = rfc.fit(X_train_prepared, y_train_prepared)"
   ]
  },
  {
   "cell_type": "markdown",
   "id": "211699f3",
   "metadata": {},
   "source": [
    "## 2. Model evaluation\n",
    "\n",
    "1. Accuracy - number of correct predictions / number of total predictions\n",
    "2. Cross Validation (CV) - a resampling method that uses different portions of the data to test and train a model on different iterations, minimizes bias and ensures generalization\n",
    "3. Root Mean Squared Error (RMSE) - how far predictions fall from measured true values using Euclidean distance"
   ]
  },
  {
   "cell_type": "markdown",
   "id": "762cbefb",
   "metadata": {},
   "source": [
    "## 2.1 Initalize function to evaluate model"
   ]
  },
  {
   "cell_type": "code",
   "execution_count": null,
   "id": "f27fb095",
   "metadata": {},
   "outputs": [],
   "source": [
    "def evaluate_model(model):\n",
    "    \"\"\"\n",
    "    Evaluate the model using accuracy and RMSE\n",
    "    :param 1 model: a classification model\n",
    "    :returns: the accuracy, cross-validated accuracy, and RMSE of the model\n",
    "    \"\"\"\n",
    "    print (f'Evaluation metrics for {model.__class__.__name__}:')\n",
    "    accuracy = model.score(X_train_prepared,y_train_prepared)\n",
    "    cross_validation = cross_val_score(model, X_train_prepared, y_train_prepared, cv=3, scoring='accuracy')\n",
    "    y_pred = model.predict(X_train_prepared)\n",
    "    rmse = mean_squared_error(y_train_prepared, y_pred)\n",
    "    print (f'Accuracy: {accuracy}' + f'\\nCross validation score: {cross_validation}' + f'\\nRMSE: {rmse}')"
   ]
  },
  {
   "cell_type": "code",
   "execution_count": null,
   "id": "751775e4",
   "metadata": {},
   "outputs": [],
   "source": [
    "# model evaluation \n",
    "eval_metrics0 = evaluate_model(decision_tree)"
   ]
  },
  {
   "cell_type": "code",
   "execution_count": null,
   "id": "54679792",
   "metadata": {},
   "outputs": [],
   "source": [
    "# model evaluation\n",
    "eval_metrics1 = evaluate_model(random_forest)"
   ]
  },
  {
   "cell_type": "markdown",
   "id": "1643e6f8",
   "metadata": {},
   "source": [
    "Based on the evaluation metrics, which model would you choose?"
   ]
  },
  {
   "cell_type": "markdown",
   "id": "7106ac7f",
   "metadata": {},
   "source": [
    "## 3. Model Testing "
   ]
  },
  {
   "cell_type": "code",
   "execution_count": null,
   "id": "4e243a96",
   "metadata": {},
   "outputs": [],
   "source": [
    "y_pred = rfc.predict(X_test_prepared)"
   ]
  },
  {
   "cell_type": "code",
   "execution_count": null,
   "id": "5ac768fc",
   "metadata": {},
   "outputs": [],
   "source": [
    "# evaluate the final model on testing data\n",
    "print (f'Accuracy : {rfc.score(X_test_prepared,y_test_prepared):.3f}')\n",
    "rmse = str(mean_squared_error(y_test_prepared, y_pred, squared=False))\n",
    "print(f'RMSE:' + rmse)"
   ]
  },
  {
   "cell_type": "code",
   "execution_count": null,
   "id": "b04c8608",
   "metadata": {},
   "outputs": [],
   "source": [
    "# save model for future refinement\n",
    "pickle.dump(rfc, open(model_path + 'rfc.pkl', 'wb'))"
   ]
  }
 ],
 "metadata": {
  "kernelspec": {
   "display_name": "Python 3 (ipykernel)",
   "language": "python",
   "name": "python3"
  },
  "language_info": {
   "codemirror_mode": {
    "name": "ipython",
    "version": 3
   },
   "file_extension": ".py",
   "mimetype": "text/x-python",
   "name": "python",
   "nbconvert_exporter": "python",
   "pygments_lexer": "ipython3",
   "version": "3.9.7"
  }
 },
 "nbformat": 4,
 "nbformat_minor": 5
}
