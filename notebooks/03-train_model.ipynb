{
 "cells": [
  {
   "cell_type": "markdown",
   "id": "115e5c13",
   "metadata": {},
   "source": [
    "# Model Training\n",
    "Authors: Wei Mai, Christina Xu"
   ]
  },
  {
   "cell_type": "markdown",
   "id": "ad939bb8",
   "metadata": {},
   "source": [
    "## 1. Model Selection\n",
    "\n",
    "While there are several classifiers available, we show how to train the following classifiers, compare and select one.\n",
    "\n",
    "1. [Decision Tree](https://scikit-learn.org/stable/modules/generated/sklearn.tree.DecisionTreeClassifier.html)\n",
    "2. [Random Forest](https://scikit-learn.org/stable/modules/generated/sklearn.ensemble.RandomForestClassifier.html#sklearn.ensemble.RandomForestClassifier)\n",
    "3. [Logistic Regression](https://scikit-learn.org/stable/modules/linear_model.html#logistic-regression)\n"
   ]
  },
  {
   "cell_type": "code",
   "execution_count": 7,
   "id": "0e26a756",
   "metadata": {},
   "outputs": [],
   "source": [
    "# models \n",
    "from sklearn import tree \n",
    "from sklearn.ensemble import RandomForestClassifier\n",
    "from sklearn.linear_model import LogisticRegression"
   ]
  },
  {
   "cell_type": "markdown",
   "id": "5fe05846",
   "metadata": {},
   "source": [
    "## 1.1 Load training and testing data"
   ]
  },
  {
   "cell_type": "code",
   "execution_count": 56,
   "id": "050610cf",
   "metadata": {},
   "outputs": [],
   "source": [
    "import numpy as np\n",
    "\n",
    "data_file_path = '../data/traintest/'\n",
    "model_file_path   = '../models/'\n",
    "\n",
    "X_train_prepared = np.loadtxt(filepath + \"X_train_prepared.csv\", delimiter=\",\")\n",
    "X_test_prepared = np.loadtxt(filepath + \"X_test_prepared.csv\", delimiter=\",\")\n",
    "y_train_prepared = np.loadtxt(filepath + \"y_train_prepared.csv\", delimiter=\",\")\n",
    "y_test_prepared = np.loadtxt(filepath + \"y_test_prepared.csv\", delimiter=\",\")"
   ]
  },
  {
   "cell_type": "markdown",
   "id": "bd4f7735",
   "metadata": {},
   "source": [
    "## 1.1 Initalize results and define function to evaluate model perfomance"
   ]
  },
  {
   "cell_type": "code",
   "execution_count": 61,
   "id": "f27fb095",
   "metadata": {},
   "outputs": [],
   "source": [
    "from sklearn.metrics import mean_squared_error\n",
    "from sklearn.metrics import accuracy_score\n",
    "\n",
    "def evaluate_model(model):\n",
    "    accuracy = model.score(X_train_prepared,y_train_prepared)\n",
    "    cross_validation = cross_val_score(model, X_train_prepared, y_train_prepared, cv=3, scoring='accuracy')\n",
    "    y_pred = model.predict(X_train_prepared)\n",
    "    rmse = mean_squared_error(y_train_prepared, y_pred)\n",
    "    print (f'Accuracy: {accuracy}' + f'\\nCross validation score: {cross_validation}' + f'\\nRMSE: {rmse}')"
   ]
  },
  {
   "cell_type": "markdown",
   "id": "211699f3",
   "metadata": {},
   "source": [
    "## 2. Training and Evaluation"
   ]
  },
  {
   "cell_type": "markdown",
   "id": "d782a28b",
   "metadata": {},
   "source": [
    "## 2.1 Decision Tree\n",
    "\n",
    "https://scikit-learn.org/stable/modules/tree.html"
   ]
  },
  {
   "cell_type": "code",
   "execution_count": 29,
   "id": "03beb780",
   "metadata": {},
   "outputs": [],
   "source": [
    "# model training\n",
    "dtc = tree.DecisionTreeClassifier()\n",
    "\n",
    "decision_tree = dtc.fit(X_train_prepared, y_train_prepared)"
   ]
  },
  {
   "cell_type": "code",
   "execution_count": 62,
   "id": "751775e4",
   "metadata": {},
   "outputs": [
    {
     "name": "stdout",
     "output_type": "stream",
     "text": [
      "Accuracy: 1.0\n",
      "Cross validation score: [0.82199441 0.83038211 0.83970177]\n",
      "RMSE: 0.0\n"
     ]
    }
   ],
   "source": [
    "# model evaluation\n",
    "eval_metrics0 = evaluate_model(decision_tree)"
   ]
  },
  {
   "cell_type": "code",
   "execution_count": 58,
   "id": "e15c6eac",
   "metadata": {},
   "outputs": [],
   "source": [
    "# save model \n",
    "import pickle \n",
    "pickle.dump(decision_tree, open(model_file_path + 'dtc.pkl', 'wb'))"
   ]
  },
  {
   "cell_type": "markdown",
   "id": "3ab38196",
   "metadata": {},
   "source": [
    "## 2.2 Random Forest \n",
    "https://scikit-learn.org/stable/modules/generated/sklearn.ensemble.RandomForestClassifier.html#sklearn.ensemble.RandomForestClassifier"
   ]
  },
  {
   "cell_type": "code",
   "execution_count": 33,
   "id": "e931e53a",
   "metadata": {},
   "outputs": [],
   "source": [
    "# model training\n",
    "rfc = RandomForestClassifier()\n",
    "\n",
    "random_forest = rfc.fit(X_train_prepared, y_train_prepared)"
   ]
  },
  {
   "cell_type": "code",
   "execution_count": 63,
   "id": "54679792",
   "metadata": {},
   "outputs": [
    {
     "name": "stdout",
     "output_type": "stream",
     "text": [
      "Accuracy: 1.0\n",
      "Cross validation score: [0.89561976 0.91053122 0.92078285]\n",
      "RMSE: 0.0\n"
     ]
    }
   ],
   "source": [
    "eval_metrics1 = evaluate_model(random_forest)"
   ]
  },
  {
   "cell_type": "code",
   "execution_count": 59,
   "id": "d0a01e3b",
   "metadata": {},
   "outputs": [],
   "source": [
    "# save model \n",
    "pickle.dump(decision_tree, open(model_file_path + 'rfc.pkl', 'wb'))"
   ]
  },
  {
   "cell_type": "markdown",
   "id": "0e77d27a",
   "metadata": {},
   "source": [
    "## 2.3 Logistic Regression\n",
    "https://scikit-learn.org/stable/modules/linear_model.html#logistic-regression"
   ]
  },
  {
   "cell_type": "code",
   "execution_count": 41,
   "id": "d76e64e4",
   "metadata": {},
   "outputs": [
    {
     "name": "stderr",
     "output_type": "stream",
     "text": [
      "/Users/christinaxu/opt/anaconda3/lib/python3.9/site-packages/sklearn/linear_model/_logistic.py:444: ConvergenceWarning: lbfgs failed to converge (status=1):\n",
      "STOP: TOTAL NO. of ITERATIONS REACHED LIMIT.\n",
      "\n",
      "Increase the number of iterations (max_iter) or scale the data as shown in:\n",
      "    https://scikit-learn.org/stable/modules/preprocessing.html\n",
      "Please also refer to the documentation for alternative solver options:\n",
      "    https://scikit-learn.org/stable/modules/linear_model.html#logistic-regression\n",
      "  n_iter_i = _check_optimize_result(\n"
     ]
    }
   ],
   "source": [
    "# model training\n",
    "lr = LogisticRegression()\n",
    "\n",
    "log_reg = lr.fit(X_train_prepared, y_train_prepared)"
   ]
  },
  {
   "cell_type": "code",
   "execution_count": 64,
   "id": "29e9e0b8",
   "metadata": {},
   "outputs": [
    {
     "name": "stdout",
     "output_type": "stream",
     "text": [
      "Accuracy: 0.8990369680024852\n",
      "Cross validation score: [0.88536813 0.89282386 0.90866729]\n",
      "RMSE: 0.10096303199751476\n"
     ]
    }
   ],
   "source": [
    "eval_metrics2 = evaluate_model(log_reg)"
   ]
  },
  {
   "cell_type": "code",
   "execution_count": 60,
   "id": "83f099fc",
   "metadata": {},
   "outputs": [],
   "source": [
    "# save model \n",
    "pickle.dump(log_reg, open(model_file_path + 'lr.pkl', 'wb'))"
   ]
  },
  {
   "cell_type": "markdown",
   "id": "ab4cde93",
   "metadata": {},
   "source": [
    "## 3. Hyperparameter Tuning"
   ]
  },
  {
   "cell_type": "code",
   "execution_count": null,
   "id": "7e5aa443",
   "metadata": {},
   "outputs": [],
   "source": [
    "from sklearn.model_selection import RandomizedSearchCV\n",
    "\n",
    "# setup random seed for reproducibility\n",
    "np.random.seed(42)\n",
    "\n",
    "# number of trees\n",
    "n_estimators = np.arange(10, 1000, 50)\n",
    "\n",
    "# maximnum number of levels in tree\n",
    "max_depth = [None, 3, 5, 10]\n",
    "\n",
    "# minimum number of samples required to split a node\n",
    "min_samples_split = np.arange(2, 20, 2)\n",
    "\n",
    "# minimum number of samples required at each leaf node\n",
    "min_samples_leaf = np.arange(1, 20, 2)\n",
    "\n",
    "# hyperparameter grid for RandomForestClassifier\n",
    "rf_grid = {\"n_estimators\": n_estimators,\n",
    "           \"max_depth\": max_depth,\n",
    "           \"min_samples_split\": min_samples_split,\n",
    "           \"min_samples_leaf\": min_samples_leaf}\n",
    "\n",
    "\n",
    "# initalize the random search model\n",
    "rf_random = RandomizedSearchCV(estimator = r,\n",
    "                               param_distributions=rf_grid,\n",
    "                               cv=5,\n",
    "                               n_iter=20,\n",
    "                               verbose=True)\n",
    "                           \n",
    "# fit the random search model\n",
    "rf_random.fit(X_train_prepared, y_train_prepared)"
   ]
  }
 ],
 "metadata": {
  "kernelspec": {
   "display_name": "Python 3 (ipykernel)",
   "language": "python",
   "name": "python3"
  },
  "language_info": {
   "codemirror_mode": {
    "name": "ipython",
    "version": 3
   },
   "file_extension": ".py",
   "mimetype": "text/x-python",
   "name": "python",
   "nbconvert_exporter": "python",
   "pygments_lexer": "ipython3",
   "version": "3.9.7"
  }
 },
 "nbformat": 4,
 "nbformat_minor": 5
}
